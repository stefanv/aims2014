{
 "metadata": {
  "name": "",
  "signature": "sha256:7dde7b8bad559965e050fb91867901df5fbc4014244bc10d555336df72553cfa"
 },
 "nbformat": 3,
 "nbformat_minor": 0,
 "worksheets": [
  {
   "cells": [
    {
     "cell_type": "markdown",
     "metadata": {},
     "source": [
      "# IPython, numpy, matplotlib, scipy\n",
      "\n",
      "Talk is cheap, let's play!"
     ]
    },
    {
     "cell_type": "markdown",
     "metadata": {},
     "source": [
      "# IPython\n",
      "\n",
      "- notebooks vs. command prompt\n",
      "- It's a shell\n",
      "- Tab completion, ? and ??\n",
      "- %timeit and (and, in the notebook, %%timeit)\n",
      "- %load, %paste"
     ]
    },
    {
     "cell_type": "markdown",
     "metadata": {},
     "source": [
      "# What are numpy arrays?\n",
      "\n",
      "- motivation: speed\n",
      "- how to import\n",
      "- the numpy docstring format\n",
      "- data type\n",
      "- shape"
     ]
    },
    {
     "cell_type": "markdown",
     "metadata": {},
     "source": [
      "# Constructing numpy arrays\n",
      "\n",
      "- zeros, ones\n",
      "- random\n",
      "- linspace\n",
      "- eye"
     ]
    },
    {
     "cell_type": "markdown",
     "metadata": {},
     "source": [
      "# Operations on arrays\n",
      "\n",
      "- reshaping\n",
      "- changing data-type\n",
      "- element-wise operations (cos, sin, etc.)"
     ]
    },
    {
     "cell_type": "markdown",
     "metadata": {},
     "source": [
      "# Accessing parts of arrays\n",
      "\n",
      "- indexing & views\n",
      "- slicing\n",
      "- masks"
     ]
    },
    {
     "cell_type": "markdown",
     "metadata": {},
     "source": [
      "# Visualizing arrays using Matplotlib\n",
      "\n",
      "- importing matplotlib\n",
      "- matplotlib in the notebook\n",
      "- 1-D, 2-D\n",
      "- subplots\n",
      "- [Gallery](http://matplotlib.org/gallery.html)\n",
      "\n",
      "Note: unless in the notebook, you must use \"plt.show()\" to display your plot"
     ]
    },
    {
     "cell_type": "markdown",
     "metadata": {},
     "source": [
      "# Broadcasting\n",
      "\n",
      "- basic overview\n",
      "\n",
      "\n",
      "# Why transposing is cheap in numpy\n",
      "\n",
      "- strides"
     ]
    },
    {
     "cell_type": "markdown",
     "metadata": {},
     "source": [
      "# Other numpy modules\n",
      "\n",
      "- random\n",
      "- FFT\n",
      "- linalg (especially matrix multiplication)"
     ]
    },
    {
     "cell_type": "markdown",
     "metadata": {},
     "source": [
      "# SciPy\n",
      "\n",
      "- Overview - dive into some submodules, e.g. integrate, optimize, sparse"
     ]
    },
    {
     "cell_type": "markdown",
     "metadata": {},
     "source": [
      "# Reference documentation\n",
      "\n",
      "- http://docs.scipy.org\n",
      "\n",
      "# Other tutorials\n",
      "\n",
      "- http://mentat.za.net/numpy/intro/\n",
      "- http://scipy-lectures.github.io/\n",
      "- http://www.loria.fr/~rougier/teaching/numpy/numpy.html\n",
      "- http://www.scipy.org/Tentative_NumPy_Tutorial\n",
      "\n",
      "# Exercises\n",
      "\n",
      "- http://www.loria.fr/~rougier/teaching/numpy/numpy.html#exercises\n",
      "- https://scipy-lectures.github.io/intro/matplotlib/matplotlib.html#regular-plots"
     ]
    },
    {
     "cell_type": "markdown",
     "metadata": {},
     "source": [
      "# IPython Widgets"
     ]
    },
    {
     "cell_type": "code",
     "collapsed": false,
     "input": [
      "% matplotlib inline\n",
      "from IPython.html.widgets import interact"
     ],
     "language": "python",
     "metadata": {},
     "outputs": [],
     "prompt_number": 13
    },
    {
     "cell_type": "code",
     "collapsed": false,
     "input": [
      "import numpy as np\n",
      "import matplotlib.pyplot as plt\n",
      "\n",
      "t = np.linspace(0, 1, 500)\n",
      "\n",
      "@interact(n=(0, 1, 0.1))\n",
      "def plot_poly(n=0.5):\n",
      "    plt.plot(t, t**n)\n",
      "    plt.ylim([0, 1])\n",
      "    plt.xlabel('$t^{%.1f}$' % n, fontsize=20)"
     ],
     "language": "python",
     "metadata": {},
     "outputs": [
      {
       "metadata": {},
       "output_type": "display_data",
       "png": "[encoded data removed]",
       "text": [
        "<matplotlib.figure.Figure at 0x7f82e2f08c10>"
       ]
      }
     ],
     "prompt_number": 43
    },
    {
     "cell_type": "code",
     "collapsed": false,
     "input": [],
     "language": "python",
     "metadata": {},
     "outputs": []
    }
   ],
   "metadata": {}
  }
 ]
}