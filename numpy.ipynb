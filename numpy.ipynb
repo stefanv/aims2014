{
 "metadata": {
  "name": "",
  "signature": "sha256:f5f5a7054b3fc0bd6d35a75480d4d255cc0c49ad16080d9b93c2e11e71535446"
 },
 "nbformat": 3,
 "nbformat_minor": 0,
 "worksheets": [
  {
   "cells": [
    {
     "cell_type": "markdown",
     "metadata": {},
     "source": [
      "# IPython, numpy, matplotlib, scipy\n",
      "\n",
      "Talk is cheap, let's play!"
     ]
    },
    {
     "cell_type": "markdown",
     "metadata": {},
     "source": [
      "# IPython\n",
      "\n",
      "- notebooks vs. command prompt\n",
      "- It's a shell\n",
      "- Tab completion, ? and ??\n",
      "- %timeit and (and, in the notebook, %%timeit)\n",
      "- %load, %paste"
     ]
    },
    {
     "cell_type": "code",
     "collapsed": false,
     "input": [
      "cd /tmp/foo"
     ],
     "language": "python",
     "metadata": {},
     "outputs": [
      {
       "output_type": "stream",
       "stream": "stdout",
       "text": [
        "/tmp/foo\n"
       ]
      }
     ],
     "prompt_number": 47
    },
    {
     "cell_type": "code",
     "collapsed": false,
     "input": [
      "import numpy as np"
     ],
     "language": "python",
     "metadata": {},
     "outputs": [],
     "prompt_number": 48
    },
    {
     "cell_type": "code",
     "collapsed": false,
     "input": [
      "import test"
     ],
     "language": "python",
     "metadata": {},
     "outputs": [],
     "prompt_number": 50
    },
    {
     "cell_type": "code",
     "collapsed": false,
     "input": [
      "test.hello??"
     ],
     "language": "python",
     "metadata": {},
     "outputs": [],
     "prompt_number": 52
    },
    {
     "cell_type": "code",
     "collapsed": false,
     "input": [
      "def square(n):\n",
      "    x = range(n)\n",
      "    return [el**2 for el in x]"
     ],
     "language": "python",
     "metadata": {},
     "outputs": [],
     "prompt_number": 55
    },
    {
     "cell_type": "code",
     "collapsed": false,
     "input": [
      "%timeit square(100)"
     ],
     "language": "python",
     "metadata": {},
     "outputs": [
      {
       "output_type": "stream",
       "stream": "stdout",
       "text": [
        "100000 loops, best of 3: 9.36 \u00b5s per loop\n"
       ]
      }
     ],
     "prompt_number": 56
    },
    {
     "cell_type": "markdown",
     "metadata": {},
     "source": [
      "# What are numpy arrays?\n",
      "\n",
      "- motivation: speed\n",
      "- how to import\n",
      "- the numpy docstring format\n",
      "\n",
      "- data type\n",
      "- shape"
     ]
    },
    {
     "cell_type": "code",
     "collapsed": false,
     "input": [
      "import numpy as np"
     ],
     "language": "python",
     "metadata": {},
     "outputs": [],
     "prompt_number": 57
    },
    {
     "cell_type": "code",
     "collapsed": false,
     "input": [
      "%%timeit\n",
      "x = range(1000000)\n",
      "y = [t**2 for t in x]"
     ],
     "language": "python",
     "metadata": {},
     "outputs": [
      {
       "output_type": "stream",
       "stream": "stdout",
       "text": [
        "10 loops, best of 3: 101 ms per loop\n"
       ]
      }
     ],
     "prompt_number": 66
    },
    {
     "cell_type": "code",
     "collapsed": false,
     "input": [
      "%%timeit\n",
      "x = range(10000000)\n",
      "y = [t**2 for t in x]"
     ],
     "language": "python",
     "metadata": {},
     "outputs": [
      {
       "output_type": "stream",
       "stream": "stdout",
       "text": [
        "1 loops, best of 3: 1 s per loop\n"
       ]
      }
     ],
     "prompt_number": 67
    },
    {
     "cell_type": "code",
     "collapsed": false,
     "input": [
      "x = np.arange(10)\n",
      "x**2"
     ],
     "language": "python",
     "metadata": {},
     "outputs": [
      {
       "metadata": {},
       "output_type": "pyout",
       "prompt_number": 69,
       "text": [
        "array([ 0,  1,  4,  9, 16, 25, 36, 49, 64, 81])"
       ]
      }
     ],
     "prompt_number": 69
    },
    {
     "cell_type": "code",
     "collapsed": false,
     "input": [
      "%%timeit\n",
      "\n",
      "x = np.arange(10000000)\n",
      "y = x**2"
     ],
     "language": "python",
     "metadata": {},
     "outputs": [
      {
       "output_type": "stream",
       "stream": "stdout",
       "text": [
        "1 loops, best of 3: 90.9 ms per loop\n"
       ]
      }
     ],
     "prompt_number": 70
    },
    {
     "cell_type": "markdown",
     "metadata": {},
     "source": [
      "# Constructing numpy arrays\n",
      "\n",
      "- zeros, ones\n",
      "- random\n",
      "- linspace\n",
      "- eye"
     ]
    },
    {
     "cell_type": "code",
     "collapsed": false,
     "input": [
      "np.arange(5)"
     ],
     "language": "python",
     "metadata": {},
     "outputs": [
      {
       "metadata": {},
       "output_type": "pyout",
       "prompt_number": 71,
       "text": [
        "array([0, 1, 2, 3, 4])"
       ]
      }
     ],
     "prompt_number": 71
    },
    {
     "cell_type": "code",
     "collapsed": false,
     "input": [
      "np.zeros([5, 5])"
     ],
     "language": "python",
     "metadata": {},
     "outputs": [
      {
       "metadata": {},
       "output_type": "pyout",
       "prompt_number": 72,
       "text": [
        "array([[ 0.,  0.,  0.,  0.,  0.],\n",
        "       [ 0.,  0.,  0.,  0.,  0.],\n",
        "       [ 0.,  0.,  0.,  0.,  0.],\n",
        "       [ 0.,  0.,  0.,  0.,  0.],\n",
        "       [ 0.,  0.,  0.,  0.,  0.]])"
       ]
      }
     ],
     "prompt_number": 72
    },
    {
     "cell_type": "code",
     "collapsed": false,
     "input": [
      "np.ones([2, 2])"
     ],
     "language": "python",
     "metadata": {},
     "outputs": [
      {
       "metadata": {},
       "output_type": "pyout",
       "prompt_number": 73,
       "text": [
        "array([[ 1.,  1.],\n",
        "       [ 1.,  1.]])"
       ]
      }
     ],
     "prompt_number": 73
    },
    {
     "cell_type": "code",
     "collapsed": false,
     "input": [
      "np.ones([2, 2, 2])"
     ],
     "language": "python",
     "metadata": {},
     "outputs": [
      {
       "metadata": {},
       "output_type": "pyout",
       "prompt_number": 74,
       "text": [
        "array([[[ 1.,  1.],\n",
        "        [ 1.,  1.]],\n",
        "\n",
        "       [[ 1.,  1.],\n",
        "        [ 1.,  1.]]])"
       ]
      }
     ],
     "prompt_number": 74
    },
    {
     "cell_type": "code",
     "collapsed": false,
     "input": [
      "np.linspace(0, 5, 30)"
     ],
     "language": "python",
     "metadata": {},
     "outputs": [
      {
       "metadata": {},
       "output_type": "pyout",
       "prompt_number": 76,
       "text": [
        "array([ 0.        ,  0.17241379,  0.34482759,  0.51724138,  0.68965517,\n",
        "        0.86206897,  1.03448276,  1.20689655,  1.37931034,  1.55172414,\n",
        "        1.72413793,  1.89655172,  2.06896552,  2.24137931,  2.4137931 ,\n",
        "        2.5862069 ,  2.75862069,  2.93103448,  3.10344828,  3.27586207,\n",
        "        3.44827586,  3.62068966,  3.79310345,  3.96551724,  4.13793103,\n",
        "        4.31034483,  4.48275862,  4.65517241,  4.82758621,  5.        ])"
       ]
      }
     ],
     "prompt_number": 76
    },
    {
     "cell_type": "code",
     "collapsed": false,
     "input": [
      "np.eye(4)"
     ],
     "language": "python",
     "metadata": {},
     "outputs": [
      {
       "metadata": {},
       "output_type": "pyout",
       "prompt_number": 78,
       "text": [
        "array([[ 1.,  0.,  0.,  0.],\n",
        "       [ 0.,  1.,  0.,  0.],\n",
        "       [ 0.,  0.,  1.,  0.],\n",
        "       [ 0.,  0.,  0.,  1.]])"
       ]
      }
     ],
     "prompt_number": 78
    },
    {
     "cell_type": "markdown",
     "metadata": {},
     "source": [
      "# Operations on arrays\n",
      "\n",
      "- reshaping\n",
      "- changing data-type\n",
      "- element-wise operations (cos, sin, etc.)"
     ]
    },
    {
     "cell_type": "code",
     "collapsed": false,
     "input": [
      "np.arange(12)"
     ],
     "language": "python",
     "metadata": {},
     "outputs": [
      {
       "metadata": {},
       "output_type": "pyout",
       "prompt_number": 79,
       "text": [
        "array([ 0,  1,  2,  3,  4,  5,  6,  7,  8,  9, 10, 11])"
       ]
      }
     ],
     "prompt_number": 79
    },
    {
     "cell_type": "code",
     "collapsed": false,
     "input": [
      "x = np.arange(12)\n",
      "x.reshape([3, 4])"
     ],
     "language": "python",
     "metadata": {},
     "outputs": [
      {
       "metadata": {},
       "output_type": "pyout",
       "prompt_number": 84,
       "text": [
        "array([[ 0,  1,  2,  3],\n",
        "       [ 4,  5,  6,  7],\n",
        "       [ 8,  9, 10, 11]])"
       ]
      }
     ],
     "prompt_number": 84
    },
    {
     "cell_type": "code",
     "collapsed": false,
     "input": [
      "1/3.0"
     ],
     "language": "python",
     "metadata": {},
     "outputs": [
      {
       "metadata": {},
       "output_type": "pyout",
       "prompt_number": 87,
       "text": [
        "0.3333333333333333"
       ]
      }
     ],
     "prompt_number": 87
    },
    {
     "cell_type": "code",
     "collapsed": false,
     "input": [
      "X = x.reshape((4, 3))\n",
      "X"
     ],
     "language": "python",
     "metadata": {},
     "outputs": [
      {
       "metadata": {},
       "output_type": "pyout",
       "prompt_number": 90,
       "text": [
        "array([[ 0,  1,  2],\n",
        "       [ 3,  4,  5],\n",
        "       [ 6,  7,  8],\n",
        "       [ 9, 10, 11]])"
       ]
      }
     ],
     "prompt_number": 90
    },
    {
     "cell_type": "code",
     "collapsed": false,
     "input": [
      "X.shape"
     ],
     "language": "python",
     "metadata": {},
     "outputs": [
      {
       "metadata": {},
       "output_type": "pyout",
       "prompt_number": 91,
       "text": [
        "(4, 3)"
       ]
      }
     ],
     "prompt_number": 91
    },
    {
     "cell_type": "code",
     "collapsed": false,
     "input": [
      "X.dtype"
     ],
     "language": "python",
     "metadata": {},
     "outputs": [
      {
       "metadata": {},
       "output_type": "pyout",
       "prompt_number": 92,
       "text": [
        "dtype('int64')"
       ]
      }
     ],
     "prompt_number": 92
    },
    {
     "cell_type": "code",
     "collapsed": false,
     "input": [
      "Y = X.astype(float)"
     ],
     "language": "python",
     "metadata": {},
     "outputs": [],
     "prompt_number": 95
    },
    {
     "cell_type": "code",
     "collapsed": false,
     "input": [
      "print X, X.dtype\n",
      "print Y, Y.dtype"
     ],
     "language": "python",
     "metadata": {},
     "outputs": [
      {
       "output_type": "stream",
       "stream": "stdout",
       "text": [
        "[[ 0  1  2]\n",
        " [ 3  4  5]\n",
        " [ 6  7  8]\n",
        " [ 9 10 11]] int64\n",
        "[[  0.   1.   2.]\n",
        " [  3.   4.   5.]\n",
        " [  6.   7.   8.]\n",
        " [  9.  10.  11.]] float64\n"
       ]
      }
     ],
     "prompt_number": 97
    },
    {
     "cell_type": "code",
     "collapsed": false,
     "input": [
      "print X / 3\n",
      "print Y / 3"
     ],
     "language": "python",
     "metadata": {},
     "outputs": [
      {
       "output_type": "stream",
       "stream": "stdout",
       "text": [
        "[[0 0 0]\n",
        " [1 1 1]\n",
        " [2 2 2]\n",
        " [3 3 3]]\n",
        "[[ 0.          0.33333333  0.66666667]\n",
        " [ 1.          1.33333333  1.66666667]\n",
        " [ 2.          2.33333333  2.66666667]\n",
        " [ 3.          3.33333333  3.66666667]]\n"
       ]
      }
     ],
     "prompt_number": 98
    },
    {
     "cell_type": "markdown",
     "metadata": {},
     "source": [
      "# Accessing parts of arrays\n",
      "\n",
      "- indexing & views\n",
      "- slicing\n",
      "- masks"
     ]
    },
    {
     "cell_type": "code",
     "collapsed": false,
     "input": [
      "print X\n",
      "\n",
      "print X[1, :]"
     ],
     "language": "python",
     "metadata": {},
     "outputs": [
      {
       "output_type": "stream",
       "stream": "stdout",
       "text": [
        "[[ 0  1  2]\n",
        " [ 3  4  5]\n",
        " [ 6  7  8]\n",
        " [ 9 10 11]]\n",
        "[3 4 5]\n"
       ]
      }
     ],
     "prompt_number": 103
    },
    {
     "cell_type": "code",
     "collapsed": false,
     "input": [
      "X[:, 1]"
     ],
     "language": "python",
     "metadata": {},
     "outputs": [
      {
       "metadata": {},
       "output_type": "pyout",
       "prompt_number": 104,
       "text": [
        "array([ 1,  4,  7, 10])"
       ]
      }
     ],
     "prompt_number": 104
    },
    {
     "cell_type": "code",
     "collapsed": false,
     "input": [
      "X[0:2, 0:2]"
     ],
     "language": "python",
     "metadata": {},
     "outputs": [
      {
       "metadata": {},
       "output_type": "pyout",
       "prompt_number": 105,
       "text": [
        "array([[0, 1],\n",
        "       [3, 4]])"
       ]
      }
     ],
     "prompt_number": 105
    },
    {
     "cell_type": "code",
     "collapsed": false,
     "input": [
      "X[:2, :2]"
     ],
     "language": "python",
     "metadata": {},
     "outputs": [
      {
       "metadata": {},
       "output_type": "pyout",
       "prompt_number": 106,
       "text": [
        "array([[0, 1],\n",
        "       [3, 4]])"
       ]
      }
     ],
     "prompt_number": 106
    },
    {
     "cell_type": "code",
     "collapsed": false,
     "input": [
      "a = np.arange(10)\n",
      "print a\n",
      "\n",
      "print a > 3\n",
      "mask = a > 3\n",
      "\n",
      "print a[mask]"
     ],
     "language": "python",
     "metadata": {},
     "outputs": [
      {
       "output_type": "stream",
       "stream": "stdout",
       "text": [
        "[0 1 2 3 4 5 6 7 8 9]\n",
        "[False False False False  True  True  True  True  True  True]\n",
        "[4 5 6 7 8 9]\n"
       ]
      }
     ],
     "prompt_number": 111
    },
    {
     "cell_type": "code",
     "collapsed": false,
     "input": [
      "b = np.random.random(1000)\n",
      "mask = b < 0.5\n",
      "\n",
      "print np.sum(mask) / 1000. * 100\n",
      "\n",
      "print b[mask]"
     ],
     "language": "python",
     "metadata": {},
     "outputs": [
      {
       "output_type": "stream",
       "stream": "stdout",
       "text": [
        "50.2\n",
        "[ 0.00536423  0.28720328  0.47853428  0.19560719  0.33779121  0.31331331\n",
        "  0.33006288  0.41698462  0.48239902  0.02518883  0.10956192  0.01833528\n",
        "  0.21283226  0.39406947  0.3463269   0.26430238  0.22392546  0.23286242\n",
        "  0.28345919  0.46757892  0.01735179  0.25765807  0.26671374  0.2270123\n",
        "  0.36726787  0.0730345   0.46306512  0.45603908  0.25747444  0.30363769\n",
        "  0.41654055  0.03830311  0.23815758  0.27299738  0.16395244  0.25803755\n",
        "  0.10035734  0.45067519  0.03565222  0.31032122  0.28561691  0.32963457\n",
        "  0.46405153  0.17117795  0.26386515  0.28437058  0.27473958  0.0767039\n",
        "  0.2135732   0.29070201  0.29104071  0.10571285  0.15746264  0.23735498\n",
        "  0.26596517  0.06134853  0.3407093   0.39193127  0.00276941  0.1996605\n",
        "  0.07956967  0.18978584  0.26140354  0.04906238  0.04631222  0.35219024\n",
        "  0.46302885  0.10885369  0.34811962  0.15250803  0.13483385  0.40067191\n",
        "  0.27793524  0.44663608  0.2339899   0.44744207  0.32360928  0.27567123\n",
        "  0.05977735  0.12722394  0.25436585  0.2536417   0.43294878  0.02248045\n",
        "  0.35787436  0.43931451  0.0873935   0.38049151  0.11488244  0.16659021\n",
        "  0.44960314  0.34991755  0.14551175  0.40690917  0.17520366  0.17803497\n",
        "  0.34291929  0.33723908  0.1753528   0.08556833  0.29397667  0.42112356\n",
        "  0.12950679  0.44679929  0.40333267  0.10416329  0.25353407  0.0861037\n",
        "  0.23271385  0.09561172  0.34705627  0.14768147  0.04918148  0.18271248\n",
        "  0.21247122  0.34850224  0.33664631  0.11573979  0.31971976  0.324541\n",
        "  0.1720779   0.32157653  0.42430377  0.01522564  0.07635668  0.3480905\n",
        "  0.32011469  0.1134733   0.28826608  0.11069454  0.19053478  0.47561865\n",
        "  0.08530139  0.38546826  0.2640935   0.34300521  0.43726968  0.34754531\n",
        "  0.46873105  0.12256254  0.03743895  0.07307794  0.35639014  0.05643293\n",
        "  0.27795957  0.44703582  0.15815216  0.251383    0.27925238  0.27604444\n",
        "  0.04940596  0.06239748  0.00543889  0.29028911  0.01887739  0.1115957\n",
        "  0.05734701  0.04244947  0.48636987  0.08353937  0.45155587  0.40703789\n",
        "  0.2152567   0.43236328  0.39563491  0.42721915  0.06246727  0.48938294\n",
        "  0.02465555  0.16092893  0.09452306  0.43742627  0.04725944  0.49022961\n",
        "  0.15130543  0.47217909  0.19262788  0.26541948  0.42465436  0.08665875\n",
        "  0.46775081  0.21220532  0.44534697  0.38224938  0.19669324  0.1583558\n",
        "  0.3739597   0.10792101  0.1374323   0.38590014  0.43301563  0.26484231\n",
        "  0.46409442  0.38726268  0.01073033  0.15427876  0.12889222  0.24090391\n",
        "  0.04469012  0.07626104  0.01368284  0.37554683  0.14466729  0.45382602\n",
        "  0.20379814  0.47578907  0.29338275  0.44252176  0.30698812  0.30279217\n",
        "  0.15584891  0.24077637  0.05036224  0.40162104  0.48064722  0.26075099\n",
        "  0.28129612  0.45138294  0.34568561  0.27354089  0.0504523   0.16646774\n",
        "  0.33461917  0.06679848  0.01213068  0.0622702   0.20114793  0.2952713\n",
        "  0.38855813  0.18910833  0.43329062  0.149195    0.32657679  0.07133553\n",
        "  0.32375654  0.14704597  0.1348541   0.35799061  0.1556033   0.43148542\n",
        "  0.00882859  0.42776789  0.08376096  0.43688775  0.48203874  0.49240743\n",
        "  0.41644735  0.4389032   0.3293511   0.21040684  0.42727773  0.24012775\n",
        "  0.24655941  0.3517026   0.19090093  0.10522366  0.49811351  0.00091033\n",
        "  0.02860468  0.35286701  0.01253543  0.42592628  0.33774491  0.23001829\n",
        "  0.09936165  0.42514007  0.17161091  0.01648767  0.16042235  0.2848793\n",
        "  0.43053403  0.30230471  0.16371559  0.3208323   0.07600432  0.22410283\n",
        "  0.19008422  0.25660315  0.33819165  0.14406569  0.3670781   0.13604111\n",
        "  0.24850081  0.17352342  0.46185393  0.31483425  0.40617409  0.16107605\n",
        "  0.47238582  0.01519835  0.3818994   0.29550757  0.24322356  0.0625589\n",
        "  0.09083359  0.39189397  0.3253948   0.44768625  0.00528802  0.25677403\n",
        "  0.04147672  0.08308889  0.49293936  0.19910275  0.29833461  0.2580363\n",
        "  0.25724408  0.26359401  0.28958203  0.26715988  0.4938414   0.0715822\n",
        "  0.16148571  0.33186702  0.39628752  0.04550974  0.13338541  0.20360494\n",
        "  0.1466022   0.05840732  0.19074443  0.47899907  0.4499034   0.01483233\n",
        "  0.16881587  0.09849387  0.09207993  0.41953222  0.04482256  0.34525385\n",
        "  0.30854853  0.00367156  0.46112156  0.23490508  0.01246952  0.30669849\n",
        "  0.44059167  0.18941466  0.36444777  0.392932    0.39433579  0.41833331\n",
        "  0.18620914  0.12335206  0.19933692  0.46655708  0.32493238  0.04946469\n",
        "  0.36896225  0.39773544  0.41685126  0.23941122  0.34594457  0.33269998\n",
        "  0.28342914  0.45586724  0.47724474  0.00748451  0.0186424   0.05046011\n",
        "  0.30315183  0.05565575  0.28245148  0.14907155  0.19329972  0.42741842\n",
        "  0.09093774  0.18292224  0.23793752  0.054692    0.20069329  0.06940406\n",
        "  0.11835461  0.04458562  0.05929876  0.22289011  0.01915649  0.45419054\n",
        "  0.07107017  0.18362761  0.09709375  0.0639769   0.30015623  0.26450837\n",
        "  0.05618062  0.18401408  0.0674334   0.36373936  0.31393853  0.02269848\n",
        "  0.19910068  0.18499628  0.46510632  0.45407483  0.43916214  0.43728126\n",
        "  0.3025146   0.44879607  0.09668337  0.36123151  0.44121385  0.26467819\n",
        "  0.4272834   0.30117163  0.17439942  0.32082531  0.04252989  0.29743328\n",
        "  0.38484488  0.04818275  0.33278768  0.06511618  0.45236371  0.48059073\n",
        "  0.45564328  0.1715564   0.31040733  0.09797768  0.15194921  0.2318851\n",
        "  0.36967151  0.48772777  0.36549704  0.46895183  0.05078235  0.27408785\n",
        "  0.27276377  0.22360042  0.19837571  0.03276502  0.11680012  0.07268093\n",
        "  0.00697221  0.15199693  0.35792642  0.23119392  0.22376355  0.49810882\n",
        "  0.41219051  0.24585468  0.28419224  0.49082154  0.32198527  0.11669882\n",
        "  0.44095665  0.25771058  0.09358919  0.27991848  0.28296899  0.14002674\n",
        "  0.35587512  0.21324284  0.02579525  0.2081251   0.05338589  0.17078974\n",
        "  0.05730274  0.45708141  0.06996015  0.3802096   0.11006075  0.04564037\n",
        "  0.36345016  0.44943013  0.104008    0.42581755  0.30021643  0.00079787\n",
        "  0.38560766  0.35206741  0.21163543  0.08967756  0.29254197  0.36616743\n",
        "  0.3586807   0.09403954  0.23649594  0.1360476   0.30014927  0.38761836\n",
        "  0.33189143  0.38234629  0.21505285  0.20009523  0.16061058  0.27630058\n",
        "  0.10294219  0.21791847  0.14417918  0.32154562  0.1954085   0.16567878\n",
        "  0.08130054  0.3847951   0.06630266  0.38177736  0.44424705  0.35724936\n",
        "  0.08219273  0.11161225  0.03843222  0.37399772]\n"
       ]
      }
     ],
     "prompt_number": 131
    },
    {
     "cell_type": "markdown",
     "metadata": {},
     "source": [
      "# Visualizing arrays using Matplotlib\n",
      "\n",
      "- importing matplotlib\n",
      "- matplotlib in the notebook\n",
      "- 1-D, 2-D\n",
      "- subplots\n",
      "- [Gallery](http://matplotlib.org/gallery.html)\n",
      "\n",
      "Note: unless in the notebook, you must use \"plt.show()\" to display your plot"
     ]
    },
    {
     "cell_type": "code",
     "collapsed": false,
     "input": [
      "import matplotlib.pyplot as plt\n",
      "\n",
      "%matplotlib inline"
     ],
     "language": "python",
     "metadata": {},
     "outputs": [],
     "prompt_number": 134
    },
    {
     "cell_type": "code",
     "collapsed": false,
     "input": [
      "t = np.linspace(-1, 1, 500)\n",
      "\n",
      "plt.plot(t, t**2, label='Order 2')\n",
      "plt.plot(t, t**3, label='Order 3')\n",
      "plt.legend()"
     ],
     "language": "python",
     "metadata": {},
     "outputs": [
      {
       "metadata": {},
       "output_type": "pyout",
       "prompt_number": 139,
       "text": [
        "<matplotlib.legend.Legend at 0x7f82e2c23250>"
       ]
      },
      {
       "metadata": {},
       "output_type": "display_data",
       "png": "[encoded data removed]",
       "text": [
        "<matplotlib.figure.Figure at 0x7f82e2daaa90>"
       ]
      }
     ],
     "prompt_number": 139
    },
    {
     "cell_type": "code",
     "collapsed": false,
     "input": [
      "#R = np.random.random((100, 100))\n",
      "#print R.shape\n",
      "\n",
      "X, Y = np.mgrid[:50, :50]\n",
      "Z = X**2 + Y**2"
     ],
     "language": "python",
     "metadata": {},
     "outputs": [],
     "prompt_number": 145
    },
    {
     "cell_type": "code",
     "collapsed": false,
     "input": [
      "plt.imshow(Z, cmap='gray')"
     ],
     "language": "python",
     "metadata": {},
     "outputs": [
      {
       "metadata": {},
       "output_type": "pyout",
       "prompt_number": 147,
       "text": [
        "<matplotlib.image.AxesImage at 0x7f82e2a305d0>"
       ]
      },
      {
       "metadata": {},
       "output_type": "display_data",
       "png": "[encoded data removed]",
       "text": [
        "<matplotlib.figure.Figure at 0x7f82e2aebe90>"
       ]
      }
     ],
     "prompt_number": 147
    },
    {
     "cell_type": "code",
     "collapsed": false,
     "input": [
      "plt.imshow(R, cmap='gray', interpolation='nearest')"
     ],
     "language": "python",
     "metadata": {},
     "outputs": [
      {
       "metadata": {},
       "output_type": "pyout",
       "prompt_number": 149,
       "text": [
        "<matplotlib.image.AxesImage at 0x7f82e29d4190>"
       ]
      },
      {
       "metadata": {},
       "output_type": "display_data",
       "png": "[encoded data removed]",
       "text": [
        "<matplotlib.figure.Figure at 0x7f82e299a550>"
       ]
      }
     ],
     "prompt_number": 149
    },
    {
     "cell_type": "code",
     "collapsed": false,
     "input": [
      "fig, (ax0, ax1, ax2) = plt.subplots(1, 3, figsize=(10, 5))\n",
      "\n",
      "t = np.linspace(-20, 20, 500)\n",
      "\n",
      "ax0.plot(t, np.sin(t) / t)\n",
      "ax0.set_xlabel('Time', fontsize=20)\n",
      "ax0.set_ylabel('$\\sin(x)/x$', fontsize=20)\n",
      "\n",
      "ax1.plot([3, 2, 1])\n",
      "ax2.imshow(Z)\n"
     ],
     "language": "python",
     "metadata": {},
     "outputs": [
      {
       "metadata": {},
       "output_type": "pyout",
       "prompt_number": 171,
       "text": [
        "<matplotlib.image.AxesImage at 0x7f82dab68250>"
       ]
      },
      {
       "metadata": {},
       "output_type": "display_data",
       "png": "[encoded data removed]",
       "text": [
        "<matplotlib.figure.Figure at 0x7f82db0724d0>"
       ]
      }
     ],
     "prompt_number": 171
    },
    {
     "cell_type": "markdown",
     "metadata": {},
     "source": [
      "# Broadcasting\n",
      "\n",
      "- basic overview\n",
      "\n",
      "\n",
      "# Why transposing is cheap in numpy\n",
      "\n",
      "- strides"
     ]
    },
    {
     "cell_type": "code",
     "collapsed": false,
     "input": [
      "d = np.array([[1, 2, 3]])\n",
      "e = np.array([[4], [5], [6]])\n",
      "\n",
      "print d\n",
      "print e"
     ],
     "language": "python",
     "metadata": {},
     "outputs": [
      {
       "output_type": "stream",
       "stream": "stdout",
       "text": [
        "[[1 2 3]]\n",
        "[[4]\n",
        " [5]\n",
        " [6]]\n"
       ]
      }
     ],
     "prompt_number": 173
    },
    {
     "cell_type": "code",
     "collapsed": false,
     "input": [
      "d + e"
     ],
     "language": "python",
     "metadata": {},
     "outputs": [
      {
       "metadata": {},
       "output_type": "pyout",
       "prompt_number": 174,
       "text": [
        "array([[5, 6, 7],\n",
        "       [6, 7, 8],\n",
        "       [7, 8, 9]])"
       ]
      }
     ],
     "prompt_number": 174
    },
    {
     "cell_type": "code",
     "collapsed": false,
     "input": [
      "d * e"
     ],
     "language": "python",
     "metadata": {},
     "outputs": [
      {
       "metadata": {},
       "output_type": "pyout",
       "prompt_number": 175,
       "text": [
        "array([[ 4,  8, 12],\n",
        "       [ 5, 10, 15],\n",
        "       [ 6, 12, 18]])"
       ]
      }
     ],
     "prompt_number": 175
    },
    {
     "cell_type": "code",
     "collapsed": false,
     "input": [
      "dd, ee = np.broadcast_arrays(d, e)\n",
      "print dd\n",
      "print\n",
      "print ee"
     ],
     "language": "python",
     "metadata": {},
     "outputs": [
      {
       "output_type": "stream",
       "stream": "stdout",
       "text": [
        "[[1 2 3]\n",
        " [1 2 3]\n",
        " [1 2 3]]\n",
        "\n",
        "[[4 4 4]\n",
        " [5 5 5]\n",
        " [6 6 6]]\n"
       ]
      }
     ],
     "prompt_number": 179
    },
    {
     "cell_type": "markdown",
     "metadata": {},
     "source": [
      "# Other numpy modules\n",
      "\n",
      "- random\n",
      "- FFT\n",
      "- linalg (especially matrix multiplication)"
     ]
    },
    {
     "cell_type": "markdown",
     "metadata": {},
     "source": [
      "# SciPy\n",
      "\n",
      "- Overview - dive into some submodules, e.g. integrate, optimize, sparse"
     ]
    },
    {
     "cell_type": "code",
     "collapsed": false,
     "input": [
      "from scipy import optimize\n",
      "\n",
      "def fun(x):\n",
      "    return (x - 1)**2\n",
      "\n",
      "optimize.fmin(fun, -10)"
     ],
     "language": "python",
     "metadata": {},
     "outputs": [
      {
       "output_type": "stream",
       "stream": "stdout",
       "text": [
        "Optimization terminated successfully.\n",
        "         Current function value: 0.000000\n",
        "         Iterations: 21\n",
        "         Function evaluations: 42\n"
       ]
      },
      {
       "metadata": {},
       "output_type": "pyout",
       "prompt_number": 182,
       "text": [
        "array([ 1.])"
       ]
      }
     ],
     "prompt_number": 182
    },
    {
     "cell_type": "markdown",
     "metadata": {},
     "source": [
      "# Reference documentation\n",
      "\n",
      "- http://docs.scipy.org\n",
      "\n",
      "# Other tutorials\n",
      "\n",
      "- http://mentat.za.net/numpy/intro/\n",
      "- http://scipy-lectures.github.io/\n",
      "- http://www.loria.fr/~rougier/teaching/numpy/numpy.html\n",
      "- http://www.scipy.org/Tentative_NumPy_Tutorial\n",
      "\n",
      "# Exercises\n",
      "\n",
      "- http://www.loria.fr/~rougier/teaching/numpy/numpy.html#exercises\n",
      "- https://scipy-lectures.github.io/intro/matplotlib/matplotlib.html#regular-plots"
     ]
    },
    {
     "cell_type": "markdown",
     "metadata": {},
     "source": [
      "# IPython Widgets"
     ]
    },
    {
     "cell_type": "code",
     "collapsed": false,
     "input": [
      "% matplotlib inline\n",
      "from IPython.html.widgets import interact"
     ],
     "language": "python",
     "metadata": {},
     "outputs": [],
     "prompt_number": 185
    },
    {
     "cell_type": "code",
     "collapsed": false,
     "input": [
      "import numpy as np\n",
      "import matplotlib.pyplot as plt\n",
      "\n",
      "t = np.linspace(0, 1, 500)\n",
      "\n",
      "@interact(n=(0, 1, 0.1))\n",
      "def plot_poly(n=0.5):\n",
      "    plt.plot(t, t**n)\n",
      "    plt.ylim([0, 1])\n",
      "    plt.xlabel('$t^{%.1f}$' % n, fontsize=20)"
     ],
     "language": "python",
     "metadata": {},
     "outputs": [
      {
       "metadata": {},
       "output_type": "display_data",
       "png": "[encoded data removed]",
       "text": [
        "<matplotlib.figure.Figure at 0x7f82daaa1c90>"
       ]
      }
     ],
     "prompt_number": 192
    },
    {
     "cell_type": "code",
     "collapsed": false,
     "input": [
      "plot_poly(0.2)"
     ],
     "language": "python",
     "metadata": {},
     "outputs": [
      {
       "metadata": {},
       "output_type": "display_data",
       "png": "[encoded data removed]",
       "text": [
        "<matplotlib.figure.Figure at 0x7f82daae51d0>"
       ]
      }
     ],
     "prompt_number": 188
    },
    {
     "cell_type": "code",
     "collapsed": false,
     "input": [],
     "language": "python",
     "metadata": {},
     "outputs": []
    }
   ],
   "metadata": {}
  }
 ]
}