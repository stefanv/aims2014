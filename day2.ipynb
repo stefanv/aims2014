{
 "metadata": {
  "name": "",
  "signature": "sha256:baa7ce42cb232c62d634a3ec37ad081ad504eb29ae1edc6925d9d46e1ea88c9d"
 },
 "nbformat": 3,
 "nbformat_minor": 0,
 "worksheets": [
  {
   "cells": [
    {
     "cell_type": "markdown",
     "metadata": {},
     "source": [
      "# Day 2\n",
      "\n",
      "<code>\n",
      "09:00-09:50  Group challenge: rotate an image\n",
      "-- TEA --\n",
      "11:00-11:20  Discussion: bi-linear interpolation\n",
      "11:20-11:45  Group challenge continues\n",
      "11:45-13:00  Warping scripts\n",
      "[---------]  Image rectification]\n",
      "\n",
      "--LUNCH--\n",
      "\n",
      "14:00-14:40  Lecture: Brief topics in machine learning:\n",
      "                      Dimensionality reduction using principle component analysis\n",
      "                      Classification, modeling\n",
      "                       - labeled vs unlabeled classification\n",
      "                       - the K-means algorithm                       \n",
      "                       - training and testing + strategies for increasing data set size\n",
      "14:40-17:00  Lab: Dataset visualization\n",
      "             Lab: K-means\n",
      "             Lab: Eigenfaces\n",
      "\n",
      "Extra material: [scikit-learn](http://scikit-learn.org) and [Kaggle](http://kaggle.com)--\"Compete as a data scientist for fortune, fame and fun\"\n",
      "</code>\n"
     ]
    },
    {
     "cell_type": "code",
     "collapsed": false,
     "input": [],
     "language": "python",
     "metadata": {},
     "outputs": []
    }
   ],
   "metadata": {}
  }
 ]
}