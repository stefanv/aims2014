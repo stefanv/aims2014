{
 "metadata": {
  "name": "",
  "signature": "sha256:5d406eef7e1f5ca3b0ec824213558ef2d7649002581c206887c1aa6d34778233"
 },
 "nbformat": 3,
 "nbformat_minor": 0,
 "worksheets": [
  {
   "cells": [
    {
     "cell_type": "markdown",
     "metadata": {},
     "source": [
      "# Day 2\n",
      "\n",
      "<code>\n",
      "08:30-09:30  Group challenge: rotate an image\n",
      "09:30-10:00  Discussion: bi-linear interpolation\n",
      "10:00-10:30  Group challenge continues\n",
      "-- TEA --\n",
      "11:00-12:00  Warping scripts\n",
      "[12:00-13:00  Image rectification]\n",
      "--LUNCH--\n",
      "14:00-14:40  Lecture: Brief topics in machine learning:\n",
      "                      Dimensionality reduction using principle component analysis\n",
      "                      Classification, modeling\n",
      "                       - labeled vs unlabeled classification\n",
      "                       - the K-means algorithm                       \n",
      "                       - training and testing + strategies for increasing data set size\n",
      "14:40-17:00  Lab: Dataset visualization\n",
      "             Lab: K-means\n",
      "             Lab: Eigenfaces\n",
      "\n",
      "Extra material: [scikit-learn](http://scikit-learn.org) and [Kaggle](http://kaggle.com)--\"Compete as a data scientist for fortune, fame and fun\"\n",
      "</code>\n"
     ]
    },
    {
     "cell_type": "code",
     "collapsed": false,
     "input": [],
     "language": "python",
     "metadata": {},
     "outputs": []
    }
   ],
   "metadata": {}
  }
 ]
}