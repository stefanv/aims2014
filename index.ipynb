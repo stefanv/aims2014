{
 "metadata": {
  "celltoolbar": "Slideshow",
  "name": "",
  "signature": "sha256:d2494ff351c28a0392cca51c9aaf47ebd1315aee969d2169c9a9b105d9530358"
 },
 "nbformat": 3,
 "nbformat_minor": 0,
 "worksheets": [
  {
   "cells": [
    {
     "cell_type": "markdown",
     "metadata": {
      "slideshow": {
       "slide_type": "slide"
      }
     },
     "source": [
      "# An introduction to numerical modelling:\n",
      "\n",
      "## image processing, computer vision & machine learning\n",
      "\n",
      "### AIMS, Mathematics iff Computing, July 2014\n",
      "\n",
      "# https://github.com/stefanv/aims2014"
     ]
    },
    {
     "cell_type": "markdown",
     "metadata": {},
     "source": [
      "### Lecturer: St\u00e9fan van der Walt\n",
      "\n",
      "Something about me: study, work and research history + future, hobbies"
     ]
    },
    {
     "cell_type": "markdown",
     "metadata": {},
     "source": [
      "<hr>\n",
      "<span style=\"font-size: 150%\"/>\n",
      "All the tools used in this course are available **for free** on the internet.\n",
      "</span>\n",
      "\n",
      "<span style=\"font-size: 150%\"/>\n",
      "For a full Python installation, try one of the following:\n",
      "</span>\n",
      "\n",
      "<span style=\"font-size: 150%\"/>\n",
      "Anaconda: http://continuum.io/downloads\n",
      "</span>\n",
      "\n",
      "or\n",
      "\n",
      "<span style=\"font-size: 150%\"/>\n",
      "Enthought Canopy: https://www.enthought.com/products/epd/free/\n",
      "<span style=\"font-size: 150%\"/>\n"
     ]
    },
    {
     "cell_type": "markdown",
     "metadata": {
      "slideshow": {
       "slide_type": "subslide"
      }
     },
     "source": [
      "# Day 1\n",
      "\n",
      "<code>\n",
      "08:30-09:30  [Lecture: NumPy, IPython, Matplotlib](numpy.ipynb)\n",
      "09:30-10:30  SciPy exercises\n",
      "11:00-12:00  [Lecture: Introduction to image processing:](image_processing_intro.ipynb)\n",
      "             - representation\n",
      "             - intensity transformations\n",
      "             - filtering (spatial, Fourier)\n",
      "12:00-13:00  Exercise: implement median filtering\n",
      "             Exercise: denoise the moon\n",
      "             Bonus: implement histogram equalization\n",
      "14:00-14:45  Group challenge: zoom and rotate an image\n",
      "14:45-15:30  Group challenge: discussion (representing transformations,\n",
      "                              issues encountered, etc.)\n",
      "16:00-18:00  Lab session:\n",
      "             - Implement linear image transformations\n",
      "             - Interpolation algorithms\n",
      "             - Challenge: correct the aspect ratio of a portrait\n",
      "             - Photograph participants\n",
      "\n",
      "Extra material: [panorama stitching](peerj.com/articles/453/)\n",
      "</code>"
     ]
    },
    {
     "cell_type": "markdown",
     "metadata": {
      "slideshow": {
       "slide_type": "subslide"
      }
     },
     "source": [
      "# Day 2\n",
      "\n",
      "[Revised schedule for day 2](day2.ipynb)\n",
      "\n",
      "Original schedule:\n",
      "\n",
      "```\n",
      "08:30-09:30  Discussion: - Rectification challenge\n",
      "                         - Dimensionality reduction using principle component analysis\n",
      "                         - Eigenfaces\n",
      "09:30-10:30\n",
      "11:00-11:30  Implement eigenfaces + classify an unknown face\n",
      "11:30-12:30  Lecture: machine learning, classification\n",
      "             - Visualizing data\n",
      "             - Classification: labeled vs unlabeled\n",
      "               - The K-means algorithm\n",
      "12:00-13:00  Exercise: implement K-means\n",
      "             - Apply to Iris data-set\n",
      "             - Apply to image quantisation\n",
      "14:00-14:45  Demo: selecting M&M's using K-means\n",
      "             Lecture: Modelling & classification\n",
      "             - Model: centroid\n",
      "             - Model: Gaussian (1-D vs N-d)\n",
      "             - Training and testing\n",
      "14:45-15:30 Exercise: implement a centroid classifier\n",
      "16:00-18:00 Exercize: implement naive Bayes classifier\n",
      "\n",
      "Extra material: scikit-learn and Kaggle\n",
      "```"
     ]
    },
    {
     "cell_type": "markdown",
     "metadata": {
      "slideshow": {
       "slide_type": "slide"
      }
     },
     "source": [
      "\n",
      "# The structure of these lectures\n",
      "\n",
      "### (and notes on numerical exploration in general)\n",
      "\n",
      "- A short lecture about the material at hand\n",
      "  (this typically covers things you could have read in a book, but I saved you the time)\n",
      "- Some exercises to practice basic principles\n",
      "  (the type of thing you would have done while exploring)\n",
      "- A challenge (the reason you'd be going through these motions in \"Real Life\")\n",
      "\n",
      "I.e. what we do here you can also do in daily life, at home--don't be afraid to tinker!\n",
      "\n",
      "What you need to succeed in numerically modelling a problem:\n",
      "\n",
      "- Some basis in mathematics.\n",
      "- A curious mind.\n",
      "- Pesistence.\n",
      "\n",
      "What I need from you today:\n",
      "\n",
      "- Ask questions! [steer the conversation in directions you find interesting--I am happy to oblige, and we have plenty of time for discussions]\n",
      "- Determine the pace of the conversation.\n",
      "- Give it a try, even if it seems daunting."
     ]
    },
    {
     "cell_type": "markdown",
     "metadata": {},
     "source": [
      "# Learn to help yourself\n",
      "\n",
      "1. Know your references\n",
      "\n",
      "   - [Wikipedia](http://en.wikipedia.org) -- clich\u00e9 but an excellent first try\n",
      "   - For today:\n",
      "     * [scipy lectures](https://scipy-lectures.github.io)\n",
      "     * [numpy & scipy documentation](https://docs.scipy.org) (and I'll show you how to get these from inside Python)\n",
      "\n",
      "2. Know your tools\n",
      "  \n",
      "  - I'll show you how to use the IPython notebook, but, in the long run, learning to use a good editor\n",
      "    (of your choice) well is paramount.\n",
      "\n",
      "3. Know your friends (a last but good option)\n",
      "  - Today: Me, your classmates\n",
      "  - Otherwise: Friends, lab-mates, mailing lists"
     ]
    }
   ],
   "metadata": {}
  }
 ]
}